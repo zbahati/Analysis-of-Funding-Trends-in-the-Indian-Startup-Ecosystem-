{
 "cells": [
  {
   "cell_type": "markdown",
   "id": "c09e87c0",
   "metadata": {},
   "source": [
    "<H1 style=\"text-align: center;font-size:30px ; font-family: 'Times New Roman'; color:#00008B\"> Project Title</H1><br>"
   ]
  },
  {
   "cell_type": "markdown",
   "id": "94dc9d75",
   "metadata": {},
   "source": [
    "<p style=\"text-align: center;font-size:25px ;font-weight: bold ; font-family: 'Times New Roman'\"> Analysis of Funding Trends in the Indian Startup Ecosystem</p> <br>"
   ]
  },
  {
   "cell_type": "markdown",
   "id": "eb8af643",
   "metadata": {},
   "source": [
    "<H1 style=\"text-align: center;font-size:30px ; font-family: 'Times New Roman'; color: #00008B\"> Project Description</H1> <br><br>"
   ]
  },
  {
   "cell_type": "markdown",
   "id": "9ce1d322",
   "metadata": {},
   "source": [
    "<p style=\"font-size:20px ;font-weight: bold; font-family: 'Times New Roman'\"> The goal of this initiative is to provide information to important players who are considering entering the Indian startup ecosystem. <br> In order to do this, we will examine important indicators of investment received by startups in India from 2018 to 2021. Management will make strategic business decisions using these information. </p>"
   ]
  },
  {
   "cell_type": "markdown",
   "id": "a2a8ead5",
   "metadata": {},
   "source": [
    "<p style=\"font-size:20px;font-weight: bold; font-family: 'Times New Roman'\"> I created a hypothesis to test the dataset so that I might get a valid conclusion. In order to determine which industry is more likely to attract investment from investors, the data were analyzed in terms of technical and non-technology industries.</p> <br>"
   ]
  },
  {
   "cell_type": "markdown",
   "id": "c504dbde",
   "metadata": {},
   "source": [
    "<H1 style=\"text-align: center;font-size:30px ; font-family: 'Times New Roman'; color: #00008B\"> Questions :</H1> <br><br>"
   ]
  },
  {
   "cell_type": "markdown",
   "id": "477188a9",
   "metadata": {},
   "source": [
    "\n",
    "<ol type=\"1\"style=\"font-size:20px;font-weight: bold;font-family: 'Times New Roman'\"> \n",
    "    <li>Does the sort of industry have an impact on funding success?</li>\n",
    "    <li>Can the success of obtaining finance from investors be impacted by location?</li>\n",
    "    <li>Which stage receives more investment from investors for start-ups?</li>\n",
    "    <li>Who makes the biggest investments among investors?</li>\n",
    "    <li>Can the startup's age effect the amount of funding it receives from investors?</li>\n",
    "</ol><br><br>\n"
   ]
  },
  {
   "cell_type": "markdown",
   "id": "79165154",
   "metadata": {},
   "source": [
    "<H1 style=\"text-align: center;font-size:30px ; font-family: 'Times New Roman'; color: #00008B\"> Hypothesis :</H1> <br><br>"
   ]
  },
  {
   "cell_type": "markdown",
   "id": "2cba5ce2",
   "metadata": {},
   "source": [
    "<p style=\"font-size:20px;font-weight: bold; font-family: 'Times New Roman'\"> To further analyze the data, I developed the null and alternate hypothesis to focus on two groups; Technology-biased startups and non-tech biased startups. So the two hypothesis are as follows.</p> <br>"
   ]
  },
  {
   "cell_type": "markdown",
   "id": "a0e2feb6",
   "metadata": {},
   "source": [
    "<p style=\"font-size:20px;font-weight: bold; font-family: 'Times New Roman'\"> NULL: Technological industries do not have a higher success rate of being funded.</p> <br>"
   ]
  },
  {
   "cell_type": "markdown",
   "id": "f59a31b5",
   "metadata": {},
   "source": [
    "<p style=\"font-size:20px;font-weight: bold; font-family: 'Times New Roman'\"> ALTERNATE: Technological industries have a higher success rate of being funded.</p> <br>"
   ]
  },
  {
   "cell_type": "code",
   "execution_count": null,
   "id": "334cbeeb",
   "metadata": {},
   "outputs": [],
   "source": []
  }
 ],
 "metadata": {
  "kernelspec": {
   "display_name": "Python 3 (ipykernel)",
   "language": "python",
   "name": "python3"
  },
  "language_info": {
   "codemirror_mode": {
    "name": "ipython",
    "version": 3
   },
   "file_extension": ".py",
   "mimetype": "text/x-python",
   "name": "python",
   "nbconvert_exporter": "python",
   "pygments_lexer": "ipython3",
   "version": "3.9.13"
  }
 },
 "nbformat": 4,
 "nbformat_minor": 5
}
